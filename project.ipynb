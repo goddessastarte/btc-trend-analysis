{
 "cells": [
  {
   "cell_type": "markdown",
   "id": "131a0767",
   "metadata": {},
   "source": [
    "# Bitcoin Trend Analysis : \n",
    "\n",
    "## 1. Load data using Pandas "
   ]
  },
  {
   "cell_type": "code",
   "execution_count": 1,
   "id": "b9dbb6f6",
   "metadata": {},
   "outputs": [],
   "source": [
    "import pandas as pd\n",
    "\n",
    "btc = pd.read_csv(\"data/btc_raw_data.csv\")"
   ]
  },
  {
   "cell_type": "markdown",
   "id": "a04d390a",
   "metadata": {},
   "source": [
    "This BTC data could be used to analyze long-term trends, volatility, or investment signals.\n",
    "\n",
    "## 2. Explore data :"
   ]
  },
  {
   "cell_type": "code",
   "execution_count": 2,
   "id": "dcd7371a",
   "metadata": {},
   "outputs": [
    {
     "data": {
      "text/plain": [
       "(4364, 4)"
      ]
     },
     "execution_count": 2,
     "metadata": {},
     "output_type": "execute_result"
    }
   ],
   "source": [
    "btc.shape"
   ]
  },
  {
   "cell_type": "code",
   "execution_count": 3,
   "id": "fd8dae99",
   "metadata": {},
   "outputs": [
    {
     "data": {
      "text/plain": [
       "Index(['snapped_at', 'price', 'market_cap', 'total_volume'], dtype='object')"
      ]
     },
     "execution_count": 3,
     "metadata": {},
     "output_type": "execute_result"
    }
   ],
   "source": [
    "btc.columns"
   ]
  },
  {
   "cell_type": "code",
   "execution_count": 4,
   "id": "475448de",
   "metadata": {},
   "outputs": [
    {
     "data": {
      "text/plain": [
       "snapped_at       object\n",
       "price           float64\n",
       "market_cap      float64\n",
       "total_volume    float64\n",
       "dtype: object"
      ]
     },
     "execution_count": 4,
     "metadata": {},
     "output_type": "execute_result"
    }
   ],
   "source": [
    "btc.dtypes"
   ]
  },
  {
   "cell_type": "code",
   "execution_count": 5,
   "id": "e413b186",
   "metadata": {},
   "outputs": [
    {
     "data": {
      "text/html": [
       "<div>\n",
       "<style scoped>\n",
       "    .dataframe tbody tr th:only-of-type {\n",
       "        vertical-align: middle;\n",
       "    }\n",
       "\n",
       "    .dataframe tbody tr th {\n",
       "        vertical-align: top;\n",
       "    }\n",
       "\n",
       "    .dataframe thead th {\n",
       "        text-align: right;\n",
       "    }\n",
       "</style>\n",
       "<table border=\"1\" class=\"dataframe\">\n",
       "  <thead>\n",
       "    <tr style=\"text-align: right;\">\n",
       "      <th></th>\n",
       "      <th>snapped_at</th>\n",
       "      <th>price</th>\n",
       "      <th>market_cap</th>\n",
       "      <th>total_volume</th>\n",
       "    </tr>\n",
       "  </thead>\n",
       "  <tbody>\n",
       "    <tr>\n",
       "      <th>0</th>\n",
       "      <td>2013-04-28 00:00:00 UTC</td>\n",
       "      <td>135.30</td>\n",
       "      <td>1.500518e+09</td>\n",
       "      <td>0.0</td>\n",
       "    </tr>\n",
       "    <tr>\n",
       "      <th>1</th>\n",
       "      <td>2013-04-29 00:00:00 UTC</td>\n",
       "      <td>141.96</td>\n",
       "      <td>1.575032e+09</td>\n",
       "      <td>0.0</td>\n",
       "    </tr>\n",
       "    <tr>\n",
       "      <th>2</th>\n",
       "      <td>2013-04-30 00:00:00 UTC</td>\n",
       "      <td>135.30</td>\n",
       "      <td>1.501657e+09</td>\n",
       "      <td>0.0</td>\n",
       "    </tr>\n",
       "    <tr>\n",
       "      <th>3</th>\n",
       "      <td>2013-05-01 00:00:00 UTC</td>\n",
       "      <td>117.00</td>\n",
       "      <td>1.298952e+09</td>\n",
       "      <td>0.0</td>\n",
       "    </tr>\n",
       "    <tr>\n",
       "      <th>4</th>\n",
       "      <td>2013-05-02 00:00:00 UTC</td>\n",
       "      <td>103.43</td>\n",
       "      <td>1.148668e+09</td>\n",
       "      <td>0.0</td>\n",
       "    </tr>\n",
       "  </tbody>\n",
       "</table>\n",
       "</div>"
      ],
      "text/plain": [
       "                snapped_at   price    market_cap  total_volume\n",
       "0  2013-04-28 00:00:00 UTC  135.30  1.500518e+09           0.0\n",
       "1  2013-04-29 00:00:00 UTC  141.96  1.575032e+09           0.0\n",
       "2  2013-04-30 00:00:00 UTC  135.30  1.501657e+09           0.0\n",
       "3  2013-05-01 00:00:00 UTC  117.00  1.298952e+09           0.0\n",
       "4  2013-05-02 00:00:00 UTC  103.43  1.148668e+09           0.0"
      ]
     },
     "execution_count": 5,
     "metadata": {},
     "output_type": "execute_result"
    }
   ],
   "source": [
    "btc.head()"
   ]
  },
  {
   "cell_type": "code",
   "execution_count": 6,
   "id": "0954529d",
   "metadata": {},
   "outputs": [
    {
     "data": {
      "text/html": [
       "<div>\n",
       "<style scoped>\n",
       "    .dataframe tbody tr th:only-of-type {\n",
       "        vertical-align: middle;\n",
       "    }\n",
       "\n",
       "    .dataframe tbody tr th {\n",
       "        vertical-align: top;\n",
       "    }\n",
       "\n",
       "    .dataframe thead th {\n",
       "        text-align: right;\n",
       "    }\n",
       "</style>\n",
       "<table border=\"1\" class=\"dataframe\">\n",
       "  <thead>\n",
       "    <tr style=\"text-align: right;\">\n",
       "      <th></th>\n",
       "      <th>snapped_at</th>\n",
       "      <th>price</th>\n",
       "      <th>market_cap</th>\n",
       "      <th>total_volume</th>\n",
       "    </tr>\n",
       "  </thead>\n",
       "  <tbody>\n",
       "    <tr>\n",
       "      <th>4359</th>\n",
       "      <td>2025-04-06 00:00:00 UTC</td>\n",
       "      <td>83595.885502</td>\n",
       "      <td>1.656020e+12</td>\n",
       "      <td>1.491040e+10</td>\n",
       "    </tr>\n",
       "    <tr>\n",
       "      <th>4360</th>\n",
       "      <td>2025-04-07 00:00:00 UTC</td>\n",
       "      <td>78211.483582</td>\n",
       "      <td>1.555325e+12</td>\n",
       "      <td>3.614038e+10</td>\n",
       "    </tr>\n",
       "    <tr>\n",
       "      <th>4361</th>\n",
       "      <td>2025-04-08 00:00:00 UTC</td>\n",
       "      <td>79179.292268</td>\n",
       "      <td>1.581408e+12</td>\n",
       "      <td>8.290975e+10</td>\n",
       "    </tr>\n",
       "    <tr>\n",
       "      <th>4362</th>\n",
       "      <td>2025-04-09 00:00:00 UTC</td>\n",
       "      <td>76329.090356</td>\n",
       "      <td>1.515042e+12</td>\n",
       "      <td>4.781279e+10</td>\n",
       "    </tr>\n",
       "    <tr>\n",
       "      <th>4363</th>\n",
       "      <td>2025-04-10 00:00:00 UTC</td>\n",
       "      <td>82622.170295</td>\n",
       "      <td>1.640568e+12</td>\n",
       "      <td>8.740822e+10</td>\n",
       "    </tr>\n",
       "  </tbody>\n",
       "</table>\n",
       "</div>"
      ],
      "text/plain": [
       "                   snapped_at         price    market_cap  total_volume\n",
       "4359  2025-04-06 00:00:00 UTC  83595.885502  1.656020e+12  1.491040e+10\n",
       "4360  2025-04-07 00:00:00 UTC  78211.483582  1.555325e+12  3.614038e+10\n",
       "4361  2025-04-08 00:00:00 UTC  79179.292268  1.581408e+12  8.290975e+10\n",
       "4362  2025-04-09 00:00:00 UTC  76329.090356  1.515042e+12  4.781279e+10\n",
       "4363  2025-04-10 00:00:00 UTC  82622.170295  1.640568e+12  8.740822e+10"
      ]
     },
     "execution_count": 6,
     "metadata": {},
     "output_type": "execute_result"
    }
   ],
   "source": [
    "btc.tail()"
   ]
  },
  {
   "cell_type": "code",
   "execution_count": 7,
   "id": "99458f2e",
   "metadata": {},
   "outputs": [
    {
     "name": "stdout",
     "output_type": "stream",
     "text": [
      "highest price was : 106182.2368201815 in 2025-01-22 00:00:00 UTC\n"
     ]
    }
   ],
   "source": [
    "highest_price = btc['price'].max()\n",
    "highest_price_date = btc[btc['price'] == highest_price]['snapped_at'].values[0]\n",
    "print(f\"highest price was : {highest_price} in {highest_price_date}\")"
   ]
  },
  {
   "cell_type": "markdown",
   "id": "f7db6fc4",
   "metadata": {},
   "source": []
  },
  {
   "cell_type": "markdown",
   "id": "3ef68de7",
   "metadata": {},
   "source": [
    "## 3. Clean the data :"
   ]
  },
  {
   "cell_type": "code",
   "execution_count": 8,
   "id": "1a1ade7b",
   "metadata": {},
   "outputs": [
    {
     "data": {
      "text/plain": [
       "snapped_at      0\n",
       "price           0\n",
       "market_cap      1\n",
       "total_volume    0\n",
       "dtype: int64"
      ]
     },
     "execution_count": 8,
     "metadata": {},
     "output_type": "execute_result"
    }
   ],
   "source": [
    "btc.isnull().sum() # for missing values"
   ]
  },
  {
   "cell_type": "code",
   "execution_count": 9,
   "id": "81f23d35",
   "metadata": {},
   "outputs": [
    {
     "data": {
      "text/html": [
       "<div>\n",
       "<style scoped>\n",
       "    .dataframe tbody tr th:only-of-type {\n",
       "        vertical-align: middle;\n",
       "    }\n",
       "\n",
       "    .dataframe tbody tr th {\n",
       "        vertical-align: top;\n",
       "    }\n",
       "\n",
       "    .dataframe thead th {\n",
       "        text-align: right;\n",
       "    }\n",
       "</style>\n",
       "<table border=\"1\" class=\"dataframe\">\n",
       "  <thead>\n",
       "    <tr style=\"text-align: right;\">\n",
       "      <th></th>\n",
       "      <th>snapped_at</th>\n",
       "      <th>price</th>\n",
       "      <th>market_cap</th>\n",
       "      <th>total_volume</th>\n",
       "    </tr>\n",
       "  </thead>\n",
       "  <tbody>\n",
       "    <tr>\n",
       "      <th>1433</th>\n",
       "      <td>2017-04-02 00:00:00 UTC</td>\n",
       "      <td>1098.068</td>\n",
       "      <td>NaN</td>\n",
       "      <td>8.023151e+07</td>\n",
       "    </tr>\n",
       "  </tbody>\n",
       "</table>\n",
       "</div>"
      ],
      "text/plain": [
       "                   snapped_at     price  market_cap  total_volume\n",
       "1433  2017-04-02 00:00:00 UTC  1098.068         NaN  8.023151e+07"
      ]
     },
     "execution_count": 9,
     "metadata": {},
     "output_type": "execute_result"
    }
   ],
   "source": [
    "btc[btc['market_cap'].isnull()]"
   ]
  },
  {
   "cell_type": "markdown",
   "id": "8833f9d8",
   "metadata": {},
   "source": [
    "we'll fill the missing value using interpolation"
   ]
  },
  {
   "cell_type": "code",
   "execution_count": 10,
   "id": "5f699b83",
   "metadata": {},
   "outputs": [
    {
     "data": {
      "text/plain": [
       "snapped_at      2017-04-02 00:00:00 UTC\n",
       "price                          1098.068\n",
       "market_cap            18076367393.36203\n",
       "total_volume            80231506.350677\n",
       "Name: 1433, dtype: object"
      ]
     },
     "execution_count": 10,
     "metadata": {},
     "output_type": "execute_result"
    }
   ],
   "source": [
    "btc['market_cap'] = btc['market_cap'].interpolate()\n",
    "btc.loc[1433]"
   ]
  },
  {
   "cell_type": "markdown",
   "id": "b33afb87",
   "metadata": {},
   "source": [
    "Let's compare before and after filling the missing value"
   ]
  },
  {
   "cell_type": "code",
   "execution_count": 11,
   "id": "0c66c5ed",
   "metadata": {},
   "outputs": [
    {
     "data": {
      "text/plain": [
       "1432    1.763483e+10\n",
       "1433    1.807637e+10\n",
       "1434    1.851790e+10\n",
       "Name: market_cap, dtype: float64"
      ]
     },
     "execution_count": 11,
     "metadata": {},
     "output_type": "execute_result"
    }
   ],
   "source": [
    "btc.loc[1432:1434, 'market_cap']"
   ]
  },
  {
   "cell_type": "code",
   "execution_count": 12,
   "id": "d66d59de",
   "metadata": {},
   "outputs": [
    {
     "data": {
      "text/plain": [
       "np.int64(0)"
      ]
     },
     "execution_count": 12,
     "metadata": {},
     "output_type": "execute_result"
    }
   ],
   "source": [
    "btc.duplicated().sum() # for duplicated values"
   ]
  },
  {
   "cell_type": "code",
   "execution_count": 13,
   "id": "33b069d2",
   "metadata": {},
   "outputs": [],
   "source": [
    "btc['snapped_at'] = pd.to_datetime(btc['snapped_at'].str.replace(\" UTC\", \"\"))"
   ]
  }
 ],
 "metadata": {
  "kernelspec": {
   "display_name": "Python 3",
   "language": "python",
   "name": "python3"
  },
  "language_info": {
   "codemirror_mode": {
    "name": "ipython",
    "version": 3
   },
   "file_extension": ".py",
   "mimetype": "text/x-python",
   "name": "python",
   "nbconvert_exporter": "python",
   "pygments_lexer": "ipython3",
   "version": "3.13.3"
  }
 },
 "nbformat": 4,
 "nbformat_minor": 5
}
